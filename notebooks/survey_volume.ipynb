{
 "cells": [
  {
   "cell_type": "code",
   "execution_count": 1,
   "metadata": {
    "collapsed": true
   },
   "outputs": [],
   "source": [
    "from __future__ import print_function, division\n",
    "import numpy as np\n",
    "import matplotlib.pyplot as plt\n",
    "%matplotlib inline"
   ]
  },
  {
   "cell_type": "markdown",
   "metadata": {},
   "source": [
    "# PFS Survey Volume"
   ]
  },
  {
   "cell_type": "code",
   "execution_count": 52,
   "metadata": {
    "collapsed": true
   },
   "outputs": [],
   "source": [
    "def survey_volume(area, redshift, cosmo):\n",
    "    \"\"\"\n",
    "    Return the comoving volume of a survey\n",
    "    \n",
    "    Parameters\n",
    "    ==========\n",
    "    area : array_like\n",
    "        area in square degrees\n",
    "    \n",
    "    redshift : array_like\n",
    "        redshift\n",
    "    \n",
    "    cosmo : astropy.cosmology object\n",
    "        astropy cosmology object defining cosmology\n",
    "    \n",
    "    Returns\n",
    "    =======\n",
    "    volume : numpy.array\n",
    "        volume of survey out to `redshift` in h^{-3}Mpc^3\n",
    "    \"\"\"\n",
    "    survey_area = area/((np.pi*180.0)**2)\n",
    "    \n",
    "    V_c = cosmo.comoving_volume(redshift)\n",
    "    \n",
    "    return ((survey_area)/(4.0*np.pi))*V_c \n",
    "\n",
    "def survey_volume_between(area, redshift_a, redshift_b, cosmo):\n",
    "    \"\"\"\n",
    "    Return the comoving volume of a survey between two redshifts\n",
    "    \n",
    "    Parameters\n",
    "    ==========\n",
    "    area : array_like\n",
    "        area in square degrees\n",
    "    \n",
    "    redshift_a : array_like\n",
    "        lower redshift\n",
    "    \n",
    "     redshift_b : array_like\n",
    "        upper redshift\n",
    "    \n",
    "    cosmo : astropy.cosmology object\n",
    "        astropy cosmology object defining cosmology\n",
    "    \n",
    "    Returns\n",
    "    =======\n",
    "    volume : numpy.array\n",
    "        volume of survey out between `redshift_a` and `redshift_b` in h^{-3}Mpc^3\n",
    "    \"\"\"\n",
    "    survey_area = area/((np.pi*180.0)**2)\n",
    "    \n",
    "    V_ca = cosmo.comoving_volume(redshift_a).value\n",
    "    V_cb = cosmo.comoving_volume(redshift_b).value\n",
    "    \n",
    "    return ((survey_area)/(4.0*np.pi))*V_cb -  ((survey_area)/(4.0*np.pi))*V_ca"
   ]
  },
  {
   "cell_type": "code",
   "execution_count": 63,
   "metadata": {},
   "outputs": [],
   "source": [
    "# examine volume as a function of redshift\n",
    "# for possible survey areas\n",
    "\n",
    "from astropy.cosmology import FlatLambdaCDM\n",
    "cosmo = FlatLambdaCDM(H0=70.0, Om0=0.3)\n",
    "z = np.linspace(0.0,4.0,100)\n",
    "\n",
    "survey_volume_a = survey_volume(5.0, z, cosmo)\n",
    "survey_volume_b = survey_volume(10.0, z, cosmo)\n",
    "survey_volume_c = survey_volume(15.0, z, cosmo)"
   ]
  },
  {
   "cell_type": "code",
   "execution_count": 54,
   "metadata": {},
   "outputs": [
    {
     "data": {
      "image/png": "[encoded data removed]",
      "text/plain": [
       "<matplotlib.figure.Figure at 0x10c0816d0>"
      ]
     },
     "metadata": {},
     "output_type": "display_data"
    }
   ],
   "source": [
    "fig, ax = plt.subplots(1,1,figsize=(3.3,3.3))\n",
    "fig.subplots_adjust(left=0.2, right=0.9, bottom=0.2, top=0.9)\n",
    "l1, = ax.plot(np.log10(1+z), (survey_volume_a)**(1/3.0), '--', color='black')\n",
    "l2, = ax.plot(np.log10(1+z), (survey_volume_b)**(1/3.0), '-', color='black')\n",
    "l3, = ax.plot(np.log10(1+z), (survey_volume_c)**(1/3.0), ':', color='black')\n",
    "ax.set_ylabel(r'$V^{1/3}~[h^{-1}\\rm Mpc]$')\n",
    "ax.set_xlabel(r'z')\n",
    "ax.set_ylim([0,250])\n",
    "ax.set_xlim([np.log10(1),np.log10(4.1)])\n",
    "ax.set_xticks(np.log10([1,2,3,4]))\n",
    "ax.set_xticklabels(['0','1','2','3'])\n",
    "ax.legend([l1,l2,l3],['5','10','15'], title ='Area ' + r'$[{\\rm deg}^2]$',\n",
    "          fontsize=10, loc='upper left', frameon=False)\n",
    "plt.show()"
   ]
  },
  {
   "cell_type": "code",
   "execution_count": 64,
   "metadata": {},
   "outputs": [],
   "source": [
    "# examine volume between z=1 and 2\n",
    "# for possible survey areas\n",
    "\n",
    "survey_volume_a = survey_volume_between(5.0,  1.0, 2.0, cosmo)\n",
    "survey_volume_b = survey_volume_between(10.0, 1.0, 2.0, cosmo)\n",
    "survey_volume_c = survey_volume_between(15.0, 1.0, 2.0, cosmo)"
   ]
  },
  {
   "cell_type": "code",
   "execution_count": 65,
   "metadata": {},
   "outputs": [
    {
     "data": {
      "image/png": "[encoded data removed]",
      "text/plain": [
       "<matplotlib.figure.Figure at 0x10c2044d0>"
      ]
     },
     "metadata": {},
     "output_type": "display_data"
    }
   ],
   "source": [
    "volumes = np.array([survey_volume_a, survey_volume_b, survey_volume_c])\n",
    "volumes = volumes**(1/3)\n",
    "areas = np.array([5,10,15])\n",
    "\n",
    "fig, ax = plt.subplots(1,1,figsize=(3.3,3.3))\n",
    "fig.subplots_adjust(left=0.2, right=0.9, bottom=0.2, top=0.9)\n",
    "l1, = ax.plot(areas, volumes, 'o', color='black')\n",
    "plt.ylim([0,250])\n",
    "plt.xlim([0,20])\n",
    "ax.set_ylabel(r'$V^{1/3}~[h^{-1}\\rm Mpc]$')\n",
    "ax.set_xlabel('Area ' + r'$[{\\rm deg}^2]$')\n",
    "plt.show()"
   ]
  },
  {
   "cell_type": "code",
   "execution_count": null,
   "metadata": {
    "collapsed": true
   },
   "outputs": [],
   "source": []
  }
 ],
 "metadata": {
  "kernelspec": {
   "display_name": "Python 2",
   "language": "python",
   "name": "python2"
  },
  "language_info": {
   "codemirror_mode": {
    "name": "ipython",
    "version": 2
   },
   "file_extension": ".py",
   "mimetype": "text/x-python",
   "name": "python",
   "nbconvert_exporter": "python",
   "pygments_lexer": "ipython2",
   "version": "2.7.14"
  }
 },
 "nbformat": 4,
 "nbformat_minor": 2
}
